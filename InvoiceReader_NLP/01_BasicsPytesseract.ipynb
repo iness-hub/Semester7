{
 "cells": [
  {
   "cell_type": "code",
   "execution_count": 10,
   "id": "7772ac60",
   "metadata": {},
   "outputs": [],
   "source": [
    "import numpy as np\n",
    "import pandas as pd\n",
    "import cv2\n",
    "import PIL\n",
    "import pytesseract\n",
    "import spacy\n",
    "import easyocr\n",
    "import time\n"
   ]
  },
  {
   "cell_type": "code",
   "execution_count": 11,
   "id": "1e04dadb",
   "metadata": {
    "scrolled": true
   },
   "outputs": [
    {
     "name": "stderr",
     "output_type": "stream",
     "text": [
      "CUDA not available - defaulting to CPU. Note: This module is much faster with a GPU.\n"
     ]
    },
    {
     "name": "stdout",
     "output_type": "stream",
     "text": [
      "[([[48, 60], [171, 60], [171, 79], [48, 79]], '[Company Name]', 0.7434746673388266), ([[410, 52], [524, 52], [524, 82], [410, 82]], 'INVOICE', 0.9998990258941848), ([[49, 83], [119, 83], [119, 95], [49, 95]], '[Sitee; A-zress]', 0.037028751739250486), ([[49, 97], [109, 97], [109, 111], [49, 111]], '[Ctty, ST Zipd', 0.24652516628482432), ([[317, 99], [353, 99], [353, 111], [317, 111]], 'InVOICE', 0.2912754773794734), ([[448, 100], [472, 100], [472, 108], [448, 108]], 'CETE', 0.5214570760726929), ([[50, 114], [76, 114], [76, 122], [50, 122]], 'Fcone', 0.05755354337488672), ([[83, 111], [149, 111], [149, 125], [83, 125]], 'ex', 0.009592712444325371), ([[319, 111], [359, 111], [359, 125], [319, 125]], '[245]', 0.8354367032020491), ([[441, 111], [481, 111], [481, 125], [441, 125]], '512074', 0.28472678891613307), ([[49, 187], [83, 187], [83, 201], [49, 201]], 'IName]', 0.6468372299323542), ([[53, 199], [127, 199], [127, 213], [53, 213]], 'Comcary Nama]', 0.3312192083020965), ([[49, 213], [115, 213], [115, 225], [49, 225]], '[8itee; A-zte;', 0.010494626796640412), ([[49, 225], [109, 225], [109, 239], [49, 239]], '[Ctty, ST Zipd', 0.24652516628482432), ([[48, 237], [83, 237], [83, 253], [48, 253]], '[Frore]', 0.7526062886776002), ([[49, 251], [73, 251], [73, 263], [49, 263]], 'JEma', 0.1919003427028656), ([[78, 254], [116, 254], [116, 262], [78, 262]], 'Aiss ', 0.04856922810237551), ([[58, 292], [114, 292], [114, 300], [58, 300]], 'cescriptON', 0.12791753445666743), ([[484, 292], [520, 292], [520, 300], [484, 300]], 'L4ouht', 0.054770999162291514), ([[59, 321], [113, 321], [113, 333], [59, 333]], 'Senvka Fes', 0.20372340998139532), ([[491, 321], [523, 321], [523, 333], [491, 333]], 'Zoo.0d', 0.01445033872923643), ([[58, 334], [84, 334], [84, 342], [58, 342]], 'Lacor', 0.22155417789575604), ([[96, 336], [120, 336], [120, 342], [96, 342]], 'cons', 0.11145883053541183), ([[123, 333], [163, 333], [163, 345], [123, 345]], '3; 375tr', 0.27750974768052267), ([[489, 333], [523, 333], [523, 345], [489, 345]], '375.00', 0.29216986781502335), ([[59, 347], [81, 347], [81, 359], [59, 359]], 'Nem', 0.5893559395317339), ([[86, 348], [140, 348], [140, 356], [86, 356]], 'Tenaisconr;', 0.026710788263345157), ([[491, 347], [521, 347], [521, 361], [491, 361]], '(50.82}', 0.08452099830247997), ([[87, 361], [169, 361], [169, 373], [87, 373]], '25%: aferzigcolnt}', 0.056631970242272116), ([[495, 359], [523, 359], [523, 373], [495, 373]], '15', 0.2714862672822992), ([[130, 565], [263, 565], [263, 580], [130, 580]], 'Thank you forycur business', 0.32661942714504394), ([[367, 565], [413, 565], [413, 581], [367, 581]], 'TOTAL', 0.9993104876460648), ([[485, 565], [523, 565], [523, 579], [485, 579]], '551,56', 0.4168845371401176), ([[161, 629], [205, 629], [205, 641], [161, 641]], 'Ifyou rav', 0.7501955230435559), ([[228, 630], [266, 630], [266, 638], [228, 638]], 'querton', 0.12345524543996438), ([[271, 629], [343, 629], [343, 641], [271, 641]], 'about thb irvoize', 0.2803783887352092), ([[348, 632], [374, 632], [374, 638], [348, 638]], '02aee', 0.18780935181131198), ([[380, 632], [408, 632], [408, 638], [380, 638]], 'Cocta CC', 0.1582119521170929), ([[209, 643], [237, 643], [237, 655], [209, 655]], '[Nana', 0.311111628536381), ([[295, 643], [337, 643], [337, 655], [295, 655]], '@3w', 0.35478647623306303), ([[388, 708], [416, 708], [416, 714], [388, 714]], 'Te_= D', 0.039581566422444626), ([[428, 708], [472, 708], [472, 714], [428, 714]], '20.ssd', 0.00349471998327818), ([[243.3273272060037, 642.2600599266041], [268.9723873019805, 644.7666270475247], [267.6726727939963, 654.7399400733959], [242.02761269801948, 651.2333729524753]], 'Rona', 0.04548152536153793)]\n"
     ]
    }
   ],
   "source": [
    "img_cv = cv2.imread('./invoices/107.png') \n",
    "cv2.imshow('invoice',img_cv)\n",
    "cv2.waitKey(0)\n",
    "cv2.destroyAllWindows()\n",
    "reader = easyocr.Reader(['en'], gpu=True)\n",
    "res = reader.readtext(img_cv)\n",
    "print(res)\n"
   ]
  },
  {
   "cell_type": "code",
   "execution_count": 12,
   "id": "99a5812b",
   "metadata": {},
   "outputs": [
    {
     "name": "stderr",
     "output_type": "stream",
     "text": [
      "CUDA not available - defaulting to CPU. Note: This module is much faster with a GPU.\n"
     ]
    },
    {
     "name": "stdout",
     "output_type": "stream",
     "text": [
      "8.856348752975464\n",
      "[([[48, 60], [171, 60], [171, 79], [48, 79]], '[Company Name]', 0.7434746673388266), ([[410, 52], [524, 52], [524, 82], [410, 82]], 'INVOICE', 0.9998990258941848), ([[49, 83], [119, 83], [119, 95], [49, 95]], '[Sitee; A-zress]', 0.037028751739250486), ([[49, 97], [109, 97], [109, 111], [49, 111]], '[Ctty, ST Zipd', 0.24652516628482432), ([[317, 99], [353, 99], [353, 111], [317, 111]], 'InVOICE', 0.2912754773794734), ([[448, 100], [472, 100], [472, 108], [448, 108]], 'CETE', 0.5214570760726929), ([[50, 114], [76, 114], [76, 122], [50, 122]], 'Fcone', 0.05755354337488672), ([[83, 111], [149, 111], [149, 125], [83, 125]], 'ex', 0.009592712444325371), ([[319, 111], [359, 111], [359, 125], [319, 125]], '[245]', 0.8354367032020491), ([[441, 111], [481, 111], [481, 125], [441, 125]], '512074', 0.28472678891613307), ([[49, 187], [83, 187], [83, 201], [49, 201]], 'IName]', 0.6468372299323542), ([[53, 199], [127, 199], [127, 213], [53, 213]], 'Comcary Nama]', 0.3312192083020965), ([[49, 213], [115, 213], [115, 225], [49, 225]], '[8itee; A-zte;', 0.010494626796640412), ([[49, 225], [109, 225], [109, 239], [49, 239]], '[Ctty, ST Zipd', 0.24652516628482432), ([[48, 237], [83, 237], [83, 253], [48, 253]], '[Frore]', 0.7526062886776002), ([[49, 251], [73, 251], [73, 263], [49, 263]], 'JEma', 0.1919003427028656), ([[78, 254], [116, 254], [116, 262], [78, 262]], 'Aiss ', 0.04856922810237551), ([[58, 292], [114, 292], [114, 300], [58, 300]], 'cescriptON', 0.12791753445666743), ([[484, 292], [520, 292], [520, 300], [484, 300]], 'L4ouht', 0.054770999162291514), ([[59, 321], [113, 321], [113, 333], [59, 333]], 'Senvka Fes', 0.20372340998139532), ([[491, 321], [523, 321], [523, 333], [491, 333]], 'Zoo.0d', 0.01445033872923643), ([[58, 334], [84, 334], [84, 342], [58, 342]], 'Lacor', 0.22155417789575604), ([[96, 336], [120, 336], [120, 342], [96, 342]], 'cons', 0.11145883053541183), ([[123, 333], [163, 333], [163, 345], [123, 345]], '3; 375tr', 0.27750974768052267), ([[489, 333], [523, 333], [523, 345], [489, 345]], '375.00', 0.29216986781502335), ([[59, 347], [81, 347], [81, 359], [59, 359]], 'Nem', 0.5893559395317339), ([[86, 348], [140, 348], [140, 356], [86, 356]], 'Tenaisconr;', 0.026710788263345157), ([[491, 347], [521, 347], [521, 361], [491, 361]], '(50.82}', 0.08452099830247997), ([[87, 361], [169, 361], [169, 373], [87, 373]], '25%: aferzigcolnt}', 0.056631970242272116), ([[495, 359], [523, 359], [523, 373], [495, 373]], '15', 0.2714862672822992), ([[130, 565], [263, 565], [263, 580], [130, 580]], 'Thank you forycur business', 0.32661942714504394), ([[367, 565], [413, 565], [413, 581], [367, 581]], 'TOTAL', 0.9993104876460648), ([[485, 565], [523, 565], [523, 579], [485, 579]], '551,56', 0.4168845371401176), ([[161, 629], [205, 629], [205, 641], [161, 641]], 'Ifyou rav', 0.7501955230435559), ([[228, 630], [266, 630], [266, 638], [228, 638]], 'querton', 0.12345524543996438), ([[271, 629], [343, 629], [343, 641], [271, 641]], 'about thb irvoize', 0.2803783887352092), ([[348, 632], [374, 632], [374, 638], [348, 638]], '02aee', 0.18780935181131198), ([[380, 632], [408, 632], [408, 638], [380, 638]], 'Cocta CC', 0.1582119521170929), ([[209, 643], [237, 643], [237, 655], [209, 655]], '[Nana', 0.311111628536381), ([[295, 643], [337, 643], [337, 655], [295, 655]], '@3w', 0.35478647623306303), ([[388, 708], [416, 708], [416, 714], [388, 714]], 'Te_= D', 0.039581566422444626), ([[428, 708], [472, 708], [472, 714], [428, 714]], '20.ssd', 0.00349471998327818), ([[243.3273272060037, 642.2600599266041], [268.9723873019805, 644.7666270475247], [267.6726727939963, 654.7399400733959], [242.02761269801948, 651.2333729524753]], 'Rona', 0.04548152536153793)]\n",
      " [Company Name] INVOICE [Sitee; A-zress] [Ctty, ST Zipd InVOICE CETE Fcone ex [245] 512074 IName] Comcary Nama] [8itee; A-zte; [Ctty, ST Zipd [Frore] JEma Aiss  cescriptON L4ouht Senvka Fes Zoo.0d Lacor cons 3; 375tr 375.00 Nem Tenaisconr; (50.82} 25%: aferzigcolnt} 15 Thank you forycur business TOTAL 551,56 Ifyou rav querton about thb irvoize 02aee Cocta CC [Nana @3w Te_= D 20.ssd Rona\n"
     ]
    }
   ],
   "source": [
    "img_easyocr = img_cv.copy()\n",
    "img_pytesseract = img_cv.copy()\n",
    "start_time = time.time()\n",
    "reader = easyocr.Reader(['en'], gpu=True)\n",
    "res = reader.readtext(img_easyocr)\n",
    "\n",
    "print(format(time.time() - start_time))\n",
    "\n",
    "print(res)\n",
    "for (bbox, text, prob) in res: \n",
    "     # unpack the bounding box\\n\",\n",
    "    (tl, tr, br, bl) = bbox\n",
    "    tl = (int(tl[0]), int(tl[1]))\n",
    "    tr = (int(tr[0]), int(tr[1]))\n",
    "    br = (int(br[0]), int(br[1]))\n",
    "    bl = (int(bl[0]), int(bl[1]))\n",
    "    cv2.rectangle(img_cv, tl, br, (0, 255, 0), 1)\n",
    "    cv2.putText(img_cv, text, (tl[0], tl[1] -10 ),\n",
    "    cv2.FONT_HERSHEY_SIMPLEX, 0.2, (255, 0, 0), 1)\n",
    "\n",
    "final_text = \"\"\n",
    "\n",
    "for _, text, __ in res: # _ = bounding box, text = text and __ = confident level\n",
    "    final_text += \" \"\n",
    "    final_text += text\n",
    "\n",
    "\n",
    "cv2.imshow('invoice easyocr',img_cv)\n",
    "cv2.waitKey(0)\n",
    "cv2.destroyAllWindows()\n",
    "print(final_text)"
   ]
  },
  {
   "cell_type": "code",
   "execution_count": 13,
   "id": "949e90e4",
   "metadata": {
    "scrolled": true
   },
   "outputs": [
    {
     "name": "stdout",
     "output_type": "stream",
     "text": [
      "0.6573994159698486\n",
      "[Company Name] INVOICE\n",
      "sree ses]\n",
      "tens 2) maces TE\n",
      "ree: (8) 00000 TaT aia\n",
      "‘ane\n",
      "{BomseeyNanel\n",
      "{seen ase]\n",
      "fens 2)\n",
      "fpr]\n",
      "{EnatAdsess]\n",
      "seveeree zoom\n",
      "iabor  ous a78e m0\n",
      "Newche doco coon\n",
      "Toast ae esccun) a8\n",
      "honk you fer our bushes! TOTAL $551.58\n",
      "\n",
      "\n"
     ]
    }
   ],
   "source": [
    "img_cv = cv2.imread('./invoices/102.jpg') \n",
    "cv2.imshow('invoice',img_pytesseract)\n",
    "cv2.waitKey(0)\n",
    "cv2.destroyAllWindows()\n",
    "start_time = time.time()\n",
    "text_cv = pytesseract.image_to_string(img_pytesseract)\n",
    "print(format(time.time() - start_time))\n",
    "print(text_cv)"
   ]
  },
  {
   "cell_type": "code",
   "execution_count": null,
   "id": "f3c12d61",
   "metadata": {},
   "outputs": [],
   "source": []
  },
  {
   "cell_type": "code",
   "execution_count": 14,
   "id": "88b550a8",
   "metadata": {},
   "outputs": [
    {
     "name": "stdout",
     "output_type": "stream",
     "text": [
      "[Company Name] INVOICE\n",
      "sree ses]\n",
      "tens 2) maces TE\n",
      "ree: (8) 00000 TaT aia\n",
      "‘ane\n",
      "{BomseeyNanel\n",
      "{seen ase]\n",
      "fens 2)\n",
      "fpr]\n",
      "{EnatAdsess]\n",
      "seveeree zoom\n",
      "iabor  ous a78e m0\n",
      "Newche doco coon\n",
      "Toast ae esccun) a8\n",
      "honk you fer our bushes! TOTAL $551.58\n",
      "\n",
      "\n"
     ]
    }
   ],
   "source": [
    "print(text_cv)"
   ]
  },
  {
   "cell_type": "code",
   "execution_count": 16,
   "id": "1c092296",
   "metadata": {},
   "outputs": [
    {
     "data": {
      "text/html": [
       "<div>\n",
       "<style scoped>\n",
       "    .dataframe tbody tr th:only-of-type {\n",
       "        vertical-align: middle;\n",
       "    }\n",
       "\n",
       "    .dataframe tbody tr th {\n",
       "        vertical-align: top;\n",
       "    }\n",
       "\n",
       "    .dataframe thead th {\n",
       "        text-align: right;\n",
       "    }\n",
       "</style>\n",
       "<table border=\"1\" class=\"dataframe\">\n",
       "  <thead>\n",
       "    <tr style=\"text-align: right;\">\n",
       "      <th></th>\n",
       "      <th>level</th>\n",
       "      <th>page_num</th>\n",
       "      <th>block_num</th>\n",
       "      <th>par_num</th>\n",
       "      <th>line_num</th>\n",
       "      <th>word_num</th>\n",
       "      <th>left</th>\n",
       "      <th>top</th>\n",
       "      <th>width</th>\n",
       "      <th>height</th>\n",
       "      <th>conf</th>\n",
       "      <th>text</th>\n",
       "    </tr>\n",
       "  </thead>\n",
       "  <tbody>\n",
       "    <tr>\n",
       "      <th>0</th>\n",
       "      <td>1</td>\n",
       "      <td>1</td>\n",
       "      <td>0</td>\n",
       "      <td>0</td>\n",
       "      <td>0</td>\n",
       "      <td>0</td>\n",
       "      <td>0</td>\n",
       "      <td>0</td>\n",
       "      <td>572</td>\n",
       "      <td>739</td>\n",
       "      <td>-1</td>\n",
       "      <td></td>\n",
       "    </tr>\n",
       "    <tr>\n",
       "      <th>1</th>\n",
       "      <td>2</td>\n",
       "      <td>1</td>\n",
       "      <td>1</td>\n",
       "      <td>0</td>\n",
       "      <td>0</td>\n",
       "      <td>0</td>\n",
       "      <td>0</td>\n",
       "      <td>0</td>\n",
       "      <td>572</td>\n",
       "      <td>2</td>\n",
       "      <td>-1</td>\n",
       "      <td></td>\n",
       "    </tr>\n",
       "    <tr>\n",
       "      <th>2</th>\n",
       "      <td>3</td>\n",
       "      <td>1</td>\n",
       "      <td>1</td>\n",
       "      <td>1</td>\n",
       "      <td>0</td>\n",
       "      <td>0</td>\n",
       "      <td>0</td>\n",
       "      <td>0</td>\n",
       "      <td>572</td>\n",
       "      <td>2</td>\n",
       "      <td>-1</td>\n",
       "      <td></td>\n",
       "    </tr>\n",
       "    <tr>\n",
       "      <th>3</th>\n",
       "      <td>4</td>\n",
       "      <td>1</td>\n",
       "      <td>1</td>\n",
       "      <td>1</td>\n",
       "      <td>1</td>\n",
       "      <td>0</td>\n",
       "      <td>0</td>\n",
       "      <td>0</td>\n",
       "      <td>572</td>\n",
       "      <td>2</td>\n",
       "      <td>-1</td>\n",
       "      <td></td>\n",
       "    </tr>\n",
       "    <tr>\n",
       "      <th>4</th>\n",
       "      <td>5</td>\n",
       "      <td>1</td>\n",
       "      <td>1</td>\n",
       "      <td>1</td>\n",
       "      <td>1</td>\n",
       "      <td>1</td>\n",
       "      <td>0</td>\n",
       "      <td>0</td>\n",
       "      <td>572</td>\n",
       "      <td>2</td>\n",
       "      <td>95.000000</td>\n",
       "      <td></td>\n",
       "    </tr>\n",
       "    <tr>\n",
       "      <th>...</th>\n",
       "      <td>...</td>\n",
       "      <td>...</td>\n",
       "      <td>...</td>\n",
       "      <td>...</td>\n",
       "      <td>...</td>\n",
       "      <td>...</td>\n",
       "      <td>...</td>\n",
       "      <td>...</td>\n",
       "      <td>...</td>\n",
       "      <td>...</td>\n",
       "      <td>...</td>\n",
       "      <td>...</td>\n",
       "    </tr>\n",
       "    <tr>\n",
       "      <th>139</th>\n",
       "      <td>5</td>\n",
       "      <td>1</td>\n",
       "      <td>21</td>\n",
       "      <td>1</td>\n",
       "      <td>1</td>\n",
       "      <td>1</td>\n",
       "      <td>523</td>\n",
       "      <td>287</td>\n",
       "      <td>3</td>\n",
       "      <td>299</td>\n",
       "      <td>95.000000</td>\n",
       "      <td></td>\n",
       "    </tr>\n",
       "    <tr>\n",
       "      <th>140</th>\n",
       "      <td>2</td>\n",
       "      <td>1</td>\n",
       "      <td>22</td>\n",
       "      <td>0</td>\n",
       "      <td>0</td>\n",
       "      <td>0</td>\n",
       "      <td>570</td>\n",
       "      <td>0</td>\n",
       "      <td>2</td>\n",
       "      <td>739</td>\n",
       "      <td>-1</td>\n",
       "      <td></td>\n",
       "    </tr>\n",
       "    <tr>\n",
       "      <th>141</th>\n",
       "      <td>3</td>\n",
       "      <td>1</td>\n",
       "      <td>22</td>\n",
       "      <td>1</td>\n",
       "      <td>0</td>\n",
       "      <td>0</td>\n",
       "      <td>570</td>\n",
       "      <td>0</td>\n",
       "      <td>2</td>\n",
       "      <td>739</td>\n",
       "      <td>-1</td>\n",
       "      <td></td>\n",
       "    </tr>\n",
       "    <tr>\n",
       "      <th>142</th>\n",
       "      <td>4</td>\n",
       "      <td>1</td>\n",
       "      <td>22</td>\n",
       "      <td>1</td>\n",
       "      <td>1</td>\n",
       "      <td>0</td>\n",
       "      <td>570</td>\n",
       "      <td>0</td>\n",
       "      <td>2</td>\n",
       "      <td>739</td>\n",
       "      <td>-1</td>\n",
       "      <td></td>\n",
       "    </tr>\n",
       "    <tr>\n",
       "      <th>143</th>\n",
       "      <td>5</td>\n",
       "      <td>1</td>\n",
       "      <td>22</td>\n",
       "      <td>1</td>\n",
       "      <td>1</td>\n",
       "      <td>1</td>\n",
       "      <td>570</td>\n",
       "      <td>0</td>\n",
       "      <td>2</td>\n",
       "      <td>739</td>\n",
       "      <td>95.000000</td>\n",
       "      <td></td>\n",
       "    </tr>\n",
       "  </tbody>\n",
       "</table>\n",
       "<p>144 rows × 12 columns</p>\n",
       "</div>"
      ],
      "text/plain": [
       "    level page_num block_num par_num line_num word_num left  top width height  \\\n",
       "0       1        1         0       0        0        0    0    0   572    739   \n",
       "1       2        1         1       0        0        0    0    0   572      2   \n",
       "2       3        1         1       1        0        0    0    0   572      2   \n",
       "3       4        1         1       1        1        0    0    0   572      2   \n",
       "4       5        1         1       1        1        1    0    0   572      2   \n",
       "..    ...      ...       ...     ...      ...      ...  ...  ...   ...    ...   \n",
       "139     5        1        21       1        1        1  523  287     3    299   \n",
       "140     2        1        22       0        0        0  570    0     2    739   \n",
       "141     3        1        22       1        0        0  570    0     2    739   \n",
       "142     4        1        22       1        1        0  570    0     2    739   \n",
       "143     5        1        22       1        1        1  570    0     2    739   \n",
       "\n",
       "          conf text  \n",
       "0           -1       \n",
       "1           -1       \n",
       "2           -1       \n",
       "3           -1       \n",
       "4    95.000000       \n",
       "..         ...  ...  \n",
       "139  95.000000       \n",
       "140         -1       \n",
       "141         -1       \n",
       "142         -1       \n",
       "143  95.000000       \n",
       "\n",
       "[144 rows x 12 columns]"
      ]
     },
     "execution_count": 16,
     "metadata": {},
     "output_type": "execute_result"
    }
   ],
   "source": [
    "data = pytesseract.image_to_data(img_pytesseract)\n",
    "dataList = list(map(lambda x: x.split('\\t'),data.split('\\n')))\n",
    "df = pd.DataFrame(dataList[1:],columns=dataList[0])\n",
    "df.dropna(inplace=True)\n",
    "df"
   ]
  },
  {
   "cell_type": "code",
   "execution_count": 17,
   "id": "85cbe967",
   "metadata": {},
   "outputs": [],
   "source": [
    "\n",
    "col_int = ['level','page_num','block_num','par_num','line_num','word_num','left','top','width','height']\n",
    "df[col_int] = df[col_int].astype(object).astype(int)\n",
    "\n",
    "image = img_cv.copy()\n",
    "level = 'block'\n",
    "for l,x,y,w,h,c,txt in df[['level','left','top','width','height','conf','text']].values:\n",
    "#     print(l,x,y,w,h,c,txt)    \n",
    "    if level == 'page':\n",
    "        if l == 1:\n",
    "            cv2.rectangle(image,(x,y),(x+w,y+h),(0,0,0),2)\n",
    "        else:\n",
    "            continue\n",
    "            \n",
    "    elif level == 'block':\n",
    "        if l == 2:\n",
    "            cv2.rectangle(image,(x,y),(x+w,y+h),(255,0,0),2)\n",
    "        else:\n",
    "            continue\n",
    "    \n",
    "    elif level == 'para':\n",
    "        if l == 3:\n",
    "            cv2.rectangle(image,(x,y),(x+w,y+h),(0,255,0),2)\n",
    "        else:\n",
    "            continue\n",
    "    \n",
    "    elif level == 'line':\n",
    "        if l == 4:\n",
    "            cv2.rectangle(image,(x,y),(x+w,y+h),(0,0,255),2)\n",
    "        else:\n",
    "            continue\n",
    "            \n",
    "    elif level == 'word':\n",
    "        if l == 5:\n",
    "            cv2.rectangle(image,(x,y),(x+w,y+h),(0,255,0),2)\n",
    "          \n",
    "        else:\n",
    "            continue\n",
    "            \n",
    "cv2.imshow(\"invoice pytesseract\",image)\n",
    "cv2.waitKey()\n",
    "cv2.destroyAllWindows()"
   ]
  },
  {
   "cell_type": "code",
   "execution_count": 18,
   "id": "a84b72f9",
   "metadata": {},
   "outputs": [
    {
     "name": "stdout",
     "output_type": "stream",
     "text": [
      "<class 'pandas.core.frame.DataFrame'>\n",
      "Int64Index: 144 entries, 0 to 143\n",
      "Data columns (total 12 columns):\n",
      " #   Column     Non-Null Count  Dtype \n",
      "---  ------     --------------  ----- \n",
      " 0   level      144 non-null    int32 \n",
      " 1   page_num   144 non-null    int32 \n",
      " 2   block_num  144 non-null    int32 \n",
      " 3   par_num    144 non-null    int32 \n",
      " 4   line_num   144 non-null    int32 \n",
      " 5   word_num   144 non-null    int32 \n",
      " 6   left       144 non-null    int32 \n",
      " 7   top        144 non-null    int32 \n",
      " 8   width      144 non-null    int32 \n",
      " 9   height     144 non-null    int32 \n",
      " 10  conf       144 non-null    object\n",
      " 11  text       144 non-null    object\n",
      "dtypes: int32(10), object(2)\n",
      "memory usage: 9.0+ KB\n"
     ]
    }
   ],
   "source": [
    "df\n",
    "dataList\n",
    "df.info()\n",
    "df.dtypes\n",
    "df.dropna(inplace=True)"
   ]
  },
  {
   "cell_type": "code",
   "execution_count": 19,
   "id": "fd624e59",
   "metadata": {},
   "outputs": [
    {
     "data": {
      "text/plain": [
       "<function destroyAllWindows>"
      ]
     },
     "execution_count": 19,
     "metadata": {},
     "output_type": "execute_result"
    }
   ],
   "source": [
    "img_cv1 = cv2.imread('./invoices/102.jpg') \n",
    "\n",
    "cv2.imshow('invoice',img_cv1)\n",
    "cv2.waitKey(0)\n",
    "cv2.destroyAllWindows"
   ]
  },
  {
   "cell_type": "code",
   "execution_count": 20,
   "id": "df8a68c2",
   "metadata": {},
   "outputs": [
    {
     "data": {
      "text/plain": [
       "<function destroyAllWindows>"
      ]
     },
     "execution_count": 20,
     "metadata": {},
     "output_type": "execute_result"
    }
   ],
   "source": [
    "gray = cv2.cvtColor(img_cv1, cv2.COLOR_BGR2GRAY)\n",
    "cv2.imshow('gray',gray)\n",
    "cv2.waitKey(0)\n",
    "cv2.destroyAllWindows"
   ]
  },
  {
   "cell_type": "code",
   "execution_count": 21,
   "id": "2bd0055d",
   "metadata": {},
   "outputs": [
    {
     "data": {
      "text/plain": [
       "<function destroyAllWindows>"
      ]
     },
     "execution_count": 21,
     "metadata": {},
     "output_type": "execute_result"
    }
   ],
   "source": [
    "\n",
    "remove_noise = cv2.medianBlur(gray, 5)\n",
    "cv2.imshow('remove_noise',remove_noise)\n",
    "cv2.waitKey(0)\n",
    "cv2.destroyAllWindows"
   ]
  },
  {
   "cell_type": "code",
   "execution_count": 22,
   "id": "0a975e5c",
   "metadata": {},
   "outputs": [],
   "source": [
    "threshold_ = cv2.threshold(remove_noise,0,255,cv2.THRESH_BINARY+cv2.THRESH_OTSU)[1]\n",
    "cv2.imshow('threshold',threshold_)\n",
    "cv2.waitKey(0)\n",
    "cv2.destroyAllWindows\n",
    "text_cv2 = pytesseract.image_to_string(threshold_)"
   ]
  }
 ],
 "metadata": {
  "kernelspec": {
   "display_name": "Python 3 (ipykernel)",
   "language": "python",
   "name": "python3"
  },
  "language_info": {
   "codemirror_mode": {
    "name": "ipython",
    "version": 3
   },
   "file_extension": ".py",
   "mimetype": "text/x-python",
   "name": "python",
   "nbconvert_exporter": "python",
   "pygments_lexer": "ipython3",
   "version": "3.9.6"
  }
 },
 "nbformat": 4,
 "nbformat_minor": 5
}
