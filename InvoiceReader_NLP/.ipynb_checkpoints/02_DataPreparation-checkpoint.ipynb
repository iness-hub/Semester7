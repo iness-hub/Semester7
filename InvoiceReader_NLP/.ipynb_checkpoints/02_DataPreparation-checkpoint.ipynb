{
 "cells": [
  {
   "cell_type": "code",
   "execution_count": 1,
   "id": "9f9d926d",
   "metadata": {},
   "outputs": [],
   "source": [
    "import numpy as np\n",
    "import pandas as pd\n",
    "import cv2\n",
    "import pytesseract\n",
    "import os\n",
    "from glob import glob\n",
    "from tqdm import tqdm\n",
    "import warnings\n",
    "warnings.filterwarnings('ignore')\n"
   ]
  },
  {
   "cell_type": "code",
   "execution_count": 2,
   "id": "3477ab90",
   "metadata": {},
   "outputs": [],
   "source": [
    "imagePaths= glob('./invoices/*.jpg')"
   ]
  },
  {
   "cell_type": "code",
   "execution_count": 3,
   "id": "5dee5bd1",
   "metadata": {},
   "outputs": [
    {
     "data": {
      "text/plain": [
       "['./invoices\\\\101.jpg',\n",
       " './invoices\\\\102.jpg',\n",
       " './invoices\\\\104.jpg',\n",
       " './invoices\\\\105.jpg',\n",
       " './invoices\\\\109.jpg',\n",
       " './invoices\\\\114.jpg',\n",
       " './invoices\\\\116.jpg',\n",
       " './invoices\\\\118.jpg',\n",
       " './invoices\\\\119.jpg',\n",
       " './invoices\\\\121.jpg',\n",
       " './invoices\\\\122.jpg',\n",
       " './invoices\\\\123.jpg',\n",
       " './invoices\\\\126.jpg',\n",
       " './invoices\\\\129.jpg',\n",
       " './invoices\\\\136.jpg',\n",
       " './invoices\\\\137.jpg',\n",
       " './invoices\\\\14.jpg',\n",
       " './invoices\\\\143.jpg',\n",
       " './invoices\\\\144.jpg',\n",
       " './invoices\\\\146.jpg',\n",
       " './invoices\\\\151.jpg',\n",
       " './invoices\\\\155.jpg',\n",
       " './invoices\\\\156.jpg',\n",
       " './invoices\\\\160.jpg',\n",
       " './invoices\\\\163.jpg',\n",
       " './invoices\\\\165.jpg',\n",
       " './invoices\\\\166.jpg',\n",
       " './invoices\\\\167.jpg',\n",
       " './invoices\\\\168.jpg',\n",
       " './invoices\\\\169.jpg',\n",
       " './invoices\\\\170.jpg',\n",
       " './invoices\\\\171.jpg',\n",
       " './invoices\\\\172.jpg',\n",
       " './invoices\\\\173.jpg',\n",
       " './invoices\\\\174.jpg',\n",
       " './invoices\\\\175.jpg',\n",
       " './invoices\\\\176.jpg',\n",
       " './invoices\\\\177.jpg',\n",
       " './invoices\\\\178.jpg',\n",
       " './invoices\\\\179.jpg',\n",
       " './invoices\\\\181.jpg',\n",
       " './invoices\\\\183.jpg',\n",
       " './invoices\\\\184.jpg',\n",
       " './invoices\\\\186.jpg',\n",
       " './invoices\\\\187.jpg',\n",
       " './invoices\\\\188.jpg',\n",
       " './invoices\\\\189.jpg',\n",
       " './invoices\\\\190.jpg',\n",
       " './invoices\\\\191.jpg',\n",
       " './invoices\\\\193.jpg',\n",
       " './invoices\\\\194.jpg',\n",
       " './invoices\\\\197.jpg',\n",
       " './invoices\\\\198.jpg',\n",
       " './invoices\\\\199.jpg',\n",
       " './invoices\\\\200.jpg',\n",
       " './invoices\\\\201.jpg',\n",
       " './invoices\\\\202.jpg',\n",
       " './invoices\\\\203.jpg',\n",
       " './invoices\\\\204.jpg',\n",
       " './invoices\\\\207.jpg',\n",
       " './invoices\\\\208.jpg',\n",
       " './invoices\\\\209.jpg',\n",
       " './invoices\\\\21.jpg',\n",
       " './invoices\\\\211.jpg',\n",
       " './invoices\\\\213.jpg',\n",
       " './invoices\\\\215.jpg',\n",
       " './invoices\\\\216.jpg',\n",
       " './invoices\\\\219.jpg',\n",
       " './invoices\\\\22.jpg',\n",
       " './invoices\\\\222.jpg',\n",
       " './invoices\\\\223.jpg',\n",
       " './invoices\\\\230.jpg',\n",
       " './invoices\\\\235.jpg',\n",
       " './invoices\\\\236.jpg',\n",
       " './invoices\\\\237.jpg',\n",
       " './invoices\\\\244.jpg',\n",
       " './invoices\\\\247.jpg',\n",
       " './invoices\\\\248.jpg',\n",
       " './invoices\\\\249.jpg',\n",
       " './invoices\\\\250.jpg',\n",
       " './invoices\\\\29.jpg',\n",
       " './invoices\\\\32.jpg',\n",
       " './invoices\\\\34.jpg',\n",
       " './invoices\\\\35.jpg',\n",
       " './invoices\\\\37.jpg',\n",
       " './invoices\\\\38.jpg',\n",
       " './invoices\\\\39.jpg',\n",
       " './invoices\\\\4.jpg',\n",
       " './invoices\\\\42.jpg',\n",
       " './invoices\\\\43.jpg',\n",
       " './invoices\\\\44.jpg',\n",
       " './invoices\\\\45.jpg',\n",
       " './invoices\\\\46.jpg',\n",
       " './invoices\\\\55.jpg',\n",
       " './invoices\\\\58.jpg',\n",
       " './invoices\\\\60.jpg',\n",
       " './invoices\\\\64.jpg',\n",
       " './invoices\\\\69.jpg',\n",
       " './invoices\\\\71.jpg',\n",
       " './invoices\\\\73.jpg',\n",
       " './invoices\\\\74.jpg',\n",
       " './invoices\\\\77.jpg',\n",
       " './invoices\\\\81.jpg',\n",
       " './invoices\\\\84.jpg',\n",
       " './invoices\\\\89.jpg',\n",
       " './invoices\\\\90.jpg',\n",
       " './invoices\\\\97.jpg']"
      ]
     },
     "execution_count": 3,
     "metadata": {},
     "output_type": "execute_result"
    }
   ],
   "source": [
    "imagePaths\n"
   ]
  },
  {
   "cell_type": "code",
   "execution_count": 4,
   "id": "59f7ad5a",
   "metadata": {},
   "outputs": [],
   "source": [
    "    def resizer(image,width=500):\n",
    "        # get widht and height\n",
    "        h,w,c = image.shape \n",
    "        height = int((h/w)* width )\n",
    "        size = (width,height)\n",
    "        image = cv2.resize(image,(width,height))\n",
    "        return image, size"
   ]
  },
  {
   "cell_type": "code",
   "execution_count": 5,
   "id": "f1f005ab",
   "metadata": {},
   "outputs": [
    {
     "name": "stderr",
     "output_type": "stream",
     "text": [
      "\r",
      "Invoice:   0%|                                                                                 | 0/107 [00:00<?, ?it/s]"
     ]
    },
    {
     "name": "stdout",
     "output_type": "stream",
     "text": [
      "101.jpg\n"
     ]
    },
    {
     "name": "stderr",
     "output_type": "stream",
     "text": [
      "\r",
      "Invoice:   1%|▋                                                                        | 1/107 [00:00<00:32,  3.27it/s]"
     ]
    },
    {
     "name": "stdout",
     "output_type": "stream",
     "text": [
      "102.jpg\n"
     ]
    },
    {
     "name": "stderr",
     "output_type": "stream",
     "text": [
      "\r",
      "Invoice:   2%|█▎                                                                       | 2/107 [00:00<00:30,  3.46it/s]"
     ]
    },
    {
     "name": "stdout",
     "output_type": "stream",
     "text": [
      "104.jpg\n"
     ]
    },
    {
     "name": "stderr",
     "output_type": "stream",
     "text": [
      "\r",
      "Invoice:   3%|██                                                                       | 3/107 [00:00<00:30,  3.44it/s]"
     ]
    },
    {
     "name": "stdout",
     "output_type": "stream",
     "text": [
      "105.jpg\n"
     ]
    },
    {
     "name": "stderr",
     "output_type": "stream",
     "text": [
      "\r",
      "Invoice:   4%|██▋                                                                      | 4/107 [00:01<00:29,  3.54it/s]"
     ]
    },
    {
     "name": "stdout",
     "output_type": "stream",
     "text": [
      "109.jpg\n"
     ]
    },
    {
     "name": "stderr",
     "output_type": "stream",
     "text": [
      "\r",
      "Invoice:   5%|███▍                                                                     | 5/107 [00:01<00:28,  3.54it/s]"
     ]
    },
    {
     "name": "stdout",
     "output_type": "stream",
     "text": [
      "114.jpg\n"
     ]
    },
    {
     "name": "stderr",
     "output_type": "stream",
     "text": [
      "\r",
      "Invoice:   6%|████                                                                     | 6/107 [00:01<00:36,  2.76it/s]"
     ]
    },
    {
     "name": "stdout",
     "output_type": "stream",
     "text": [
      "116.jpg\n"
     ]
    },
    {
     "name": "stderr",
     "output_type": "stream",
     "text": [
      "\r",
      "Invoice:   7%|████▊                                                                    | 7/107 [00:02<00:38,  2.62it/s]"
     ]
    },
    {
     "name": "stdout",
     "output_type": "stream",
     "text": [
      "118.jpg\n"
     ]
    },
    {
     "name": "stderr",
     "output_type": "stream",
     "text": [
      "\r",
      "Invoice:   7%|█████▍                                                                   | 8/107 [00:02<00:39,  2.52it/s]"
     ]
    },
    {
     "name": "stdout",
     "output_type": "stream",
     "text": [
      "119.jpg\n"
     ]
    },
    {
     "name": "stderr",
     "output_type": "stream",
     "text": [
      "\r",
      "Invoice:   8%|██████▏                                                                  | 9/107 [00:03<00:45,  2.16it/s]"
     ]
    },
    {
     "name": "stdout",
     "output_type": "stream",
     "text": [
      "121.jpg\n"
     ]
    },
    {
     "name": "stderr",
     "output_type": "stream",
     "text": [
      "\r",
      "Invoice:   9%|██████▋                                                                 | 10/107 [00:03<00:40,  2.39it/s]"
     ]
    },
    {
     "name": "stdout",
     "output_type": "stream",
     "text": [
      "122.jpg\n"
     ]
    },
    {
     "name": "stderr",
     "output_type": "stream",
     "text": [
      "\r",
      "Invoice:  10%|███████▍                                                                | 11/107 [00:04<00:36,  2.65it/s]"
     ]
    },
    {
     "name": "stdout",
     "output_type": "stream",
     "text": [
      "123.jpg\n"
     ]
    },
    {
     "name": "stderr",
     "output_type": "stream",
     "text": [
      "\r",
      "Invoice:  11%|████████                                                                | 12/107 [00:04<00:33,  2.81it/s]"
     ]
    },
    {
     "name": "stdout",
     "output_type": "stream",
     "text": [
      "126.jpg\n"
     ]
    },
    {
     "name": "stderr",
     "output_type": "stream",
     "text": [
      "\r",
      "Invoice:  12%|████████▋                                                               | 13/107 [00:05<00:42,  2.19it/s]"
     ]
    },
    {
     "name": "stdout",
     "output_type": "stream",
     "text": [
      "129.jpg\n"
     ]
    },
    {
     "name": "stderr",
     "output_type": "stream",
     "text": [
      "\r",
      "Invoice:  13%|█████████▍                                                              | 14/107 [00:05<00:37,  2.46it/s]"
     ]
    },
    {
     "name": "stdout",
     "output_type": "stream",
     "text": [
      "136.jpg\n"
     ]
    },
    {
     "name": "stderr",
     "output_type": "stream",
     "text": [
      "\r",
      "Invoice:  14%|██████████                                                              | 15/107 [00:05<00:33,  2.75it/s]"
     ]
    },
    {
     "name": "stdout",
     "output_type": "stream",
     "text": [
      "137.jpg\n"
     ]
    },
    {
     "name": "stderr",
     "output_type": "stream",
     "text": [
      "\r",
      "Invoice:  15%|██████████▊                                                             | 16/107 [00:05<00:31,  2.86it/s]"
     ]
    },
    {
     "name": "stdout",
     "output_type": "stream",
     "text": [
      "14.jpg\n"
     ]
    },
    {
     "name": "stderr",
     "output_type": "stream",
     "text": [
      "\r",
      "Invoice:  16%|███████████▍                                                            | 17/107 [00:06<00:32,  2.76it/s]"
     ]
    },
    {
     "name": "stdout",
     "output_type": "stream",
     "text": [
      "143.jpg\n"
     ]
    },
    {
     "name": "stderr",
     "output_type": "stream",
     "text": [
      "\r",
      "Invoice:  17%|████████████                                                            | 18/107 [00:06<00:36,  2.46it/s]"
     ]
    },
    {
     "name": "stdout",
     "output_type": "stream",
     "text": [
      "144.jpg\n"
     ]
    },
    {
     "name": "stderr",
     "output_type": "stream",
     "text": [
      "\r",
      "Invoice:  18%|████████████▊                                                           | 19/107 [00:07<00:31,  2.76it/s]"
     ]
    },
    {
     "name": "stdout",
     "output_type": "stream",
     "text": [
      "146.jpg\n"
     ]
    },
    {
     "name": "stderr",
     "output_type": "stream",
     "text": [
      "\r",
      "Invoice:  19%|█████████████▍                                                          | 20/107 [00:07<00:33,  2.63it/s]"
     ]
    },
    {
     "name": "stdout",
     "output_type": "stream",
     "text": [
      "151.jpg\n"
     ]
    },
    {
     "name": "stderr",
     "output_type": "stream",
     "text": [
      "\r",
      "Invoice:  20%|██████████████▏                                                         | 21/107 [00:07<00:31,  2.73it/s]"
     ]
    },
    {
     "name": "stdout",
     "output_type": "stream",
     "text": [
      "155.jpg\n"
     ]
    },
    {
     "name": "stderr",
     "output_type": "stream",
     "text": [
      "\r",
      "Invoice:  21%|██████████████▊                                                         | 22/107 [00:08<00:28,  2.95it/s]"
     ]
    },
    {
     "name": "stdout",
     "output_type": "stream",
     "text": [
      "156.jpg\n"
     ]
    },
    {
     "name": "stderr",
     "output_type": "stream",
     "text": [
      "\r",
      "Invoice:  21%|███████████████▍                                                        | 23/107 [00:08<00:26,  3.20it/s]"
     ]
    },
    {
     "name": "stdout",
     "output_type": "stream",
     "text": [
      "160.jpg\n"
     ]
    },
    {
     "name": "stderr",
     "output_type": "stream",
     "text": [
      "\r",
      "Invoice:  22%|████████████████▏                                                       | 24/107 [00:08<00:27,  3.01it/s]"
     ]
    },
    {
     "name": "stdout",
     "output_type": "stream",
     "text": [
      "163.jpg\n"
     ]
    },
    {
     "name": "stderr",
     "output_type": "stream",
     "text": [
      "\r",
      "Invoice:  23%|████████████████▊                                                       | 25/107 [00:08<00:25,  3.21it/s]"
     ]
    },
    {
     "name": "stdout",
     "output_type": "stream",
     "text": [
      "165.jpg\n"
     ]
    },
    {
     "name": "stderr",
     "output_type": "stream",
     "text": [
      "\r",
      "Invoice:  24%|█████████████████▍                                                      | 26/107 [00:09<00:24,  3.28it/s]"
     ]
    },
    {
     "name": "stdout",
     "output_type": "stream",
     "text": [
      "166.jpg\n"
     ]
    },
    {
     "name": "stderr",
     "output_type": "stream",
     "text": [
      "\r",
      "Invoice:  25%|██████████████████▏                                                     | 27/107 [00:09<00:24,  3.26it/s]"
     ]
    },
    {
     "name": "stdout",
     "output_type": "stream",
     "text": [
      "167.jpg\n"
     ]
    },
    {
     "name": "stderr",
     "output_type": "stream",
     "text": [
      "\r",
      "Invoice:  26%|██████████████████▊                                                     | 28/107 [00:09<00:24,  3.28it/s]"
     ]
    },
    {
     "name": "stdout",
     "output_type": "stream",
     "text": [
      "168.jpg\n"
     ]
    },
    {
     "name": "stderr",
     "output_type": "stream",
     "text": [
      "\r",
      "Invoice:  27%|███████████████████▌                                                    | 29/107 [00:10<00:23,  3.29it/s]"
     ]
    },
    {
     "name": "stdout",
     "output_type": "stream",
     "text": [
      "169.jpg\n"
     ]
    },
    {
     "name": "stderr",
     "output_type": "stream",
     "text": [
      "\r",
      "Invoice:  28%|████████████████████▏                                                   | 30/107 [00:10<00:23,  3.31it/s]"
     ]
    },
    {
     "name": "stdout",
     "output_type": "stream",
     "text": [
      "170.jpg\n"
     ]
    },
    {
     "name": "stderr",
     "output_type": "stream",
     "text": [
      "\r",
      "Invoice:  29%|████████████████████▊                                                   | 31/107 [00:10<00:23,  3.30it/s]"
     ]
    },
    {
     "name": "stdout",
     "output_type": "stream",
     "text": [
      "171.jpg\n"
     ]
    },
    {
     "name": "stderr",
     "output_type": "stream",
     "text": [
      "\r",
      "Invoice:  30%|█████████████████████▌                                                  | 32/107 [00:11<00:23,  3.26it/s]"
     ]
    },
    {
     "name": "stdout",
     "output_type": "stream",
     "text": [
      "172.jpg\n"
     ]
    },
    {
     "name": "stderr",
     "output_type": "stream",
     "text": [
      "\r",
      "Invoice:  31%|██████████████████████▏                                                 | 33/107 [00:11<00:22,  3.26it/s]"
     ]
    },
    {
     "name": "stdout",
     "output_type": "stream",
     "text": [
      "173.jpg\n"
     ]
    },
    {
     "name": "stderr",
     "output_type": "stream",
     "text": [
      "\r",
      "Invoice:  32%|██████████████████████▉                                                 | 34/107 [00:11<00:22,  3.31it/s]"
     ]
    },
    {
     "name": "stdout",
     "output_type": "stream",
     "text": [
      "174.jpg\n"
     ]
    },
    {
     "name": "stderr",
     "output_type": "stream",
     "text": [
      "\r",
      "Invoice:  33%|███████████████████████▌                                                | 35/107 [00:11<00:21,  3.38it/s]"
     ]
    },
    {
     "name": "stdout",
     "output_type": "stream",
     "text": [
      "175.jpg\n"
     ]
    },
    {
     "name": "stderr",
     "output_type": "stream",
     "text": [
      "\r",
      "Invoice:  34%|████████████████████████▏                                               | 36/107 [00:12<00:21,  3.37it/s]"
     ]
    },
    {
     "name": "stdout",
     "output_type": "stream",
     "text": [
      "176.jpg\n"
     ]
    },
    {
     "name": "stderr",
     "output_type": "stream",
     "text": [
      "\r",
      "Invoice:  35%|████████████████████████▉                                               | 37/107 [00:12<00:21,  3.24it/s]"
     ]
    },
    {
     "name": "stdout",
     "output_type": "stream",
     "text": [
      "177.jpg\n"
     ]
    },
    {
     "name": "stderr",
     "output_type": "stream",
     "text": [
      "\r",
      "Invoice:  36%|█████████████████████████▌                                              | 38/107 [00:12<00:21,  3.28it/s]"
     ]
    },
    {
     "name": "stdout",
     "output_type": "stream",
     "text": [
      "178.jpg\n"
     ]
    },
    {
     "name": "stderr",
     "output_type": "stream",
     "text": [
      "\r",
      "Invoice:  36%|██████████████████████████▏                                             | 39/107 [00:13<00:20,  3.29it/s]"
     ]
    },
    {
     "name": "stdout",
     "output_type": "stream",
     "text": [
      "179.jpg\n"
     ]
    },
    {
     "name": "stderr",
     "output_type": "stream",
     "text": [
      "\r",
      "Invoice:  37%|██████████████████████████▉                                             | 40/107 [00:13<00:19,  3.40it/s]"
     ]
    },
    {
     "name": "stdout",
     "output_type": "stream",
     "text": [
      "181.jpg\n"
     ]
    },
    {
     "name": "stderr",
     "output_type": "stream",
     "text": [
      "\r",
      "Invoice:  38%|███████████████████████████▌                                            | 41/107 [00:13<00:19,  3.46it/s]"
     ]
    },
    {
     "name": "stdout",
     "output_type": "stream",
     "text": [
      "183.jpg\n"
     ]
    },
    {
     "name": "stderr",
     "output_type": "stream",
     "text": [
      "\r",
      "Invoice:  39%|████████████████████████████▎                                           | 42/107 [00:14<00:19,  3.38it/s]"
     ]
    },
    {
     "name": "stdout",
     "output_type": "stream",
     "text": [
      "184.jpg\n"
     ]
    },
    {
     "name": "stderr",
     "output_type": "stream",
     "text": [
      "\r",
      "Invoice:  40%|████████████████████████████▉                                           | 43/107 [00:14<00:18,  3.41it/s]"
     ]
    },
    {
     "name": "stdout",
     "output_type": "stream",
     "text": [
      "186.jpg\n"
     ]
    },
    {
     "name": "stderr",
     "output_type": "stream",
     "text": [
      "\r",
      "Invoice:  41%|█████████████████████████████▌                                          | 44/107 [00:14<00:18,  3.40it/s]"
     ]
    },
    {
     "name": "stdout",
     "output_type": "stream",
     "text": [
      "187.jpg\n"
     ]
    },
    {
     "name": "stderr",
     "output_type": "stream",
     "text": [
      "\r",
      "Invoice:  42%|██████████████████████████████▎                                         | 45/107 [00:14<00:18,  3.42it/s]"
     ]
    },
    {
     "name": "stdout",
     "output_type": "stream",
     "text": [
      "188.jpg\n"
     ]
    },
    {
     "name": "stderr",
     "output_type": "stream",
     "text": [
      "\r",
      "Invoice:  43%|██████████████████████████████▉                                         | 46/107 [00:15<00:18,  3.38it/s]"
     ]
    },
    {
     "name": "stdout",
     "output_type": "stream",
     "text": [
      "189.jpg\n"
     ]
    },
    {
     "name": "stderr",
     "output_type": "stream",
     "text": [
      "\r",
      "Invoice:  44%|███████████████████████████████▋                                        | 47/107 [00:15<00:17,  3.45it/s]"
     ]
    },
    {
     "name": "stdout",
     "output_type": "stream",
     "text": [
      "190.jpg\n"
     ]
    },
    {
     "name": "stderr",
     "output_type": "stream",
     "text": [
      "\r",
      "Invoice:  45%|████████████████████████████████▎                                       | 48/107 [00:15<00:17,  3.42it/s]"
     ]
    },
    {
     "name": "stdout",
     "output_type": "stream",
     "text": [
      "191.jpg\n"
     ]
    },
    {
     "name": "stderr",
     "output_type": "stream",
     "text": [
      "\r",
      "Invoice:  46%|████████████████████████████████▉                                       | 49/107 [00:16<00:17,  3.23it/s]"
     ]
    },
    {
     "name": "stdout",
     "output_type": "stream",
     "text": [
      "193.jpg\n"
     ]
    },
    {
     "name": "stderr",
     "output_type": "stream",
     "text": [
      "\r",
      "Invoice:  47%|█████████████████████████████████▋                                      | 50/107 [00:16<00:18,  3.10it/s]"
     ]
    },
    {
     "name": "stdout",
     "output_type": "stream",
     "text": [
      "194.jpg\n"
     ]
    },
    {
     "name": "stderr",
     "output_type": "stream",
     "text": [
      "\r",
      "Invoice:  48%|██████████████████████████████████▎                                     | 51/107 [00:16<00:18,  3.08it/s]"
     ]
    },
    {
     "name": "stdout",
     "output_type": "stream",
     "text": [
      "197.jpg\n"
     ]
    },
    {
     "name": "stderr",
     "output_type": "stream",
     "text": [
      "\r",
      "Invoice:  49%|██████████████████████████████████▉                                     | 52/107 [00:17<00:16,  3.24it/s]"
     ]
    },
    {
     "name": "stdout",
     "output_type": "stream",
     "text": [
      "198.jpg\n"
     ]
    },
    {
     "name": "stderr",
     "output_type": "stream",
     "text": [
      "\r",
      "Invoice:  50%|███████████████████████████████████▋                                    | 53/107 [00:17<00:17,  3.17it/s]"
     ]
    },
    {
     "name": "stdout",
     "output_type": "stream",
     "text": [
      "199.jpg\n"
     ]
    },
    {
     "name": "stderr",
     "output_type": "stream",
     "text": [
      "\r",
      "Invoice:  50%|████████████████████████████████████▎                                   | 54/107 [00:17<00:16,  3.21it/s]"
     ]
    },
    {
     "name": "stdout",
     "output_type": "stream",
     "text": [
      "200.jpg\n"
     ]
    },
    {
     "name": "stderr",
     "output_type": "stream",
     "text": [
      "\r",
      "Invoice:  51%|█████████████████████████████████████                                   | 55/107 [00:18<00:16,  3.24it/s]"
     ]
    },
    {
     "name": "stdout",
     "output_type": "stream",
     "text": [
      "201.jpg\n"
     ]
    },
    {
     "name": "stderr",
     "output_type": "stream",
     "text": [
      "\r",
      "Invoice:  52%|█████████████████████████████████████▋                                  | 56/107 [00:18<00:16,  3.01it/s]"
     ]
    },
    {
     "name": "stdout",
     "output_type": "stream",
     "text": [
      "202.jpg\n"
     ]
    },
    {
     "name": "stderr",
     "output_type": "stream",
     "text": [
      "\r",
      "Invoice:  53%|██████████████████████████████████████▎                                 | 57/107 [00:18<00:16,  3.08it/s]"
     ]
    },
    {
     "name": "stdout",
     "output_type": "stream",
     "text": [
      "203.jpg\n"
     ]
    },
    {
     "name": "stderr",
     "output_type": "stream",
     "text": [
      "\r",
      "Invoice:  54%|███████████████████████████████████████                                 | 58/107 [00:19<00:15,  3.14it/s]"
     ]
    },
    {
     "name": "stdout",
     "output_type": "stream",
     "text": [
      "204.jpg\n"
     ]
    },
    {
     "name": "stderr",
     "output_type": "stream",
     "text": [
      "\r",
      "Invoice:  55%|███████████████████████████████████████▋                                | 59/107 [00:19<00:16,  2.90it/s]"
     ]
    },
    {
     "name": "stdout",
     "output_type": "stream",
     "text": [
      "207.jpg\n"
     ]
    },
    {
     "name": "stderr",
     "output_type": "stream",
     "text": [
      "\r",
      "Invoice:  56%|████████████████████████████████████████▎                               | 60/107 [00:19<00:15,  3.05it/s]"
     ]
    },
    {
     "name": "stdout",
     "output_type": "stream",
     "text": [
      "208.jpg\n"
     ]
    },
    {
     "name": "stderr",
     "output_type": "stream",
     "text": [
      "\r",
      "Invoice:  57%|█████████████████████████████████████████                               | 61/107 [00:20<00:17,  2.58it/s]"
     ]
    },
    {
     "name": "stdout",
     "output_type": "stream",
     "text": [
      "209.jpg\n"
     ]
    },
    {
     "name": "stderr",
     "output_type": "stream",
     "text": [
      "\r",
      "Invoice:  58%|█████████████████████████████████████████▋                              | 62/107 [00:20<00:16,  2.80it/s]"
     ]
    },
    {
     "name": "stdout",
     "output_type": "stream",
     "text": [
      "21.jpg\n"
     ]
    },
    {
     "name": "stderr",
     "output_type": "stream",
     "text": [
      "\r",
      "Invoice:  59%|██████████████████████████████████████████▍                             | 63/107 [00:20<00:15,  2.86it/s]"
     ]
    },
    {
     "name": "stdout",
     "output_type": "stream",
     "text": [
      "211.jpg\n"
     ]
    },
    {
     "name": "stderr",
     "output_type": "stream",
     "text": [
      "\r",
      "Invoice:  60%|███████████████████████████████████████████                             | 64/107 [00:21<00:14,  2.95it/s]"
     ]
    },
    {
     "name": "stdout",
     "output_type": "stream",
     "text": [
      "213.jpg\n"
     ]
    },
    {
     "name": "stderr",
     "output_type": "stream",
     "text": [
      "\r",
      "Invoice:  61%|███████████████████████████████████████████▋                            | 65/107 [00:21<00:13,  3.05it/s]"
     ]
    },
    {
     "name": "stdout",
     "output_type": "stream",
     "text": [
      "215.jpg\n"
     ]
    },
    {
     "name": "stderr",
     "output_type": "stream",
     "text": [
      "\r",
      "Invoice:  62%|████████████████████████████████████████████▍                           | 66/107 [00:22<00:18,  2.27it/s]"
     ]
    },
    {
     "name": "stdout",
     "output_type": "stream",
     "text": [
      "216.jpg\n"
     ]
    },
    {
     "name": "stderr",
     "output_type": "stream",
     "text": [
      "\r",
      "Invoice:  63%|█████████████████████████████████████████████                           | 67/107 [00:22<00:15,  2.54it/s]"
     ]
    },
    {
     "name": "stdout",
     "output_type": "stream",
     "text": [
      "219.jpg\n"
     ]
    },
    {
     "name": "stderr",
     "output_type": "stream",
     "text": [
      "\r",
      "Invoice:  64%|█████████████████████████████████████████████▊                          | 68/107 [00:22<00:14,  2.73it/s]"
     ]
    },
    {
     "name": "stdout",
     "output_type": "stream",
     "text": [
      "22.jpg\n"
     ]
    },
    {
     "name": "stderr",
     "output_type": "stream",
     "text": [
      "\r",
      "Invoice:  64%|██████████████████████████████████████████████▍                         | 69/107 [00:23<00:14,  2.55it/s]"
     ]
    },
    {
     "name": "stdout",
     "output_type": "stream",
     "text": [
      "222.jpg\n"
     ]
    },
    {
     "name": "stderr",
     "output_type": "stream",
     "text": [
      "\r",
      "Invoice:  65%|███████████████████████████████████████████████                         | 70/107 [00:23<00:17,  2.15it/s]"
     ]
    },
    {
     "name": "stdout",
     "output_type": "stream",
     "text": [
      "223.jpg\n"
     ]
    },
    {
     "name": "stderr",
     "output_type": "stream",
     "text": [
      "\r",
      "Invoice:  66%|███████████████████████████████████████████████▊                        | 71/107 [00:24<00:17,  2.11it/s]"
     ]
    },
    {
     "name": "stdout",
     "output_type": "stream",
     "text": [
      "230.jpg\n"
     ]
    },
    {
     "name": "stderr",
     "output_type": "stream",
     "text": [
      "\r",
      "Invoice:  67%|████████████████████████████████████████████████▍                       | 72/107 [00:24<00:15,  2.24it/s]"
     ]
    },
    {
     "name": "stdout",
     "output_type": "stream",
     "text": [
      "235.jpg\n"
     ]
    },
    {
     "name": "stderr",
     "output_type": "stream",
     "text": [
      "\r",
      "Invoice:  68%|█████████████████████████████████████████████████                       | 73/107 [00:25<00:14,  2.43it/s]"
     ]
    },
    {
     "name": "stdout",
     "output_type": "stream",
     "text": [
      "236.jpg\n"
     ]
    },
    {
     "name": "stderr",
     "output_type": "stream",
     "text": [
      "\r",
      "Invoice:  69%|█████████████████████████████████████████████████▊                      | 74/107 [00:25<00:13,  2.47it/s]"
     ]
    },
    {
     "name": "stdout",
     "output_type": "stream",
     "text": [
      "237.jpg\n"
     ]
    },
    {
     "name": "stderr",
     "output_type": "stream",
     "text": [
      "\r",
      "Invoice:  70%|██████████████████████████████████████████████████▍                     | 75/107 [00:26<00:14,  2.17it/s]"
     ]
    },
    {
     "name": "stdout",
     "output_type": "stream",
     "text": [
      "244.jpg\n"
     ]
    },
    {
     "name": "stderr",
     "output_type": "stream",
     "text": [
      "\r",
      "Invoice:  71%|███████████████████████████████████████████████████▏                    | 76/107 [00:26<00:14,  2.16it/s]"
     ]
    },
    {
     "name": "stdout",
     "output_type": "stream",
     "text": [
      "247.jpg\n"
     ]
    },
    {
     "name": "stderr",
     "output_type": "stream",
     "text": [
      "\r",
      "Invoice:  72%|███████████████████████████████████████████████████▊                    | 77/107 [00:26<00:12,  2.42it/s]"
     ]
    },
    {
     "name": "stdout",
     "output_type": "stream",
     "text": [
      "248.jpg\n"
     ]
    },
    {
     "name": "stderr",
     "output_type": "stream",
     "text": [
      "\r",
      "Invoice:  73%|████████████████████████████████████████████████████▍                   | 78/107 [00:27<00:10,  2.65it/s]"
     ]
    },
    {
     "name": "stdout",
     "output_type": "stream",
     "text": [
      "249.jpg\n"
     ]
    },
    {
     "name": "stderr",
     "output_type": "stream",
     "text": [
      "\r",
      "Invoice:  74%|█████████████████████████████████████████████████████▏                  | 79/107 [00:27<00:09,  2.84it/s]"
     ]
    },
    {
     "name": "stdout",
     "output_type": "stream",
     "text": [
      "250.jpg\n"
     ]
    },
    {
     "name": "stderr",
     "output_type": "stream",
     "text": [
      "\r",
      "Invoice:  75%|█████████████████████████████████████████████████████▊                  | 80/107 [00:27<00:08,  3.01it/s]"
     ]
    },
    {
     "name": "stdout",
     "output_type": "stream",
     "text": [
      "29.jpg\n"
     ]
    },
    {
     "name": "stderr",
     "output_type": "stream",
     "text": [
      "\r",
      "Invoice:  76%|██████████████████████████████████████████████████████▌                 | 81/107 [00:28<00:09,  2.80it/s]"
     ]
    },
    {
     "name": "stdout",
     "output_type": "stream",
     "text": [
      "32.jpg\n"
     ]
    },
    {
     "name": "stderr",
     "output_type": "stream",
     "text": [
      "\r",
      "Invoice:  77%|███████████████████████████████████████████████████████▏                | 82/107 [00:28<00:09,  2.64it/s]"
     ]
    },
    {
     "name": "stdout",
     "output_type": "stream",
     "text": [
      "34.jpg\n"
     ]
    },
    {
     "name": "stderr",
     "output_type": "stream",
     "text": [
      "\r",
      "Invoice:  78%|███████████████████████████████████████████████████████▊                | 83/107 [00:29<00:10,  2.35it/s]"
     ]
    },
    {
     "name": "stdout",
     "output_type": "stream",
     "text": [
      "35.jpg\n"
     ]
    },
    {
     "name": "stderr",
     "output_type": "stream",
     "text": [
      "\r",
      "Invoice:  79%|████████████████████████████████████████████████████████▌               | 84/107 [00:29<00:09,  2.49it/s]"
     ]
    },
    {
     "name": "stdout",
     "output_type": "stream",
     "text": [
      "37.jpg\n"
     ]
    },
    {
     "name": "stderr",
     "output_type": "stream",
     "text": [
      "\r",
      "Invoice:  79%|█████████████████████████████████████████████████████████▏              | 85/107 [00:29<00:08,  2.47it/s]"
     ]
    },
    {
     "name": "stdout",
     "output_type": "stream",
     "text": [
      "38.jpg\n"
     ]
    },
    {
     "name": "stderr",
     "output_type": "stream",
     "text": [
      "\r",
      "Invoice:  80%|█████████████████████████████████████████████████████████▊              | 86/107 [00:30<00:08,  2.53it/s]"
     ]
    },
    {
     "name": "stdout",
     "output_type": "stream",
     "text": [
      "39.jpg\n"
     ]
    },
    {
     "name": "stderr",
     "output_type": "stream",
     "text": [
      "\r",
      "Invoice:  81%|██████████████████████████████████████████████████████████▌             | 87/107 [00:30<00:08,  2.45it/s]"
     ]
    },
    {
     "name": "stdout",
     "output_type": "stream",
     "text": [
      "4.jpg\n"
     ]
    },
    {
     "name": "stderr",
     "output_type": "stream",
     "text": [
      "\r",
      "Invoice:  82%|███████████████████████████████████████████████████████████▏            | 88/107 [00:31<00:08,  2.18it/s]"
     ]
    },
    {
     "name": "stdout",
     "output_type": "stream",
     "text": [
      "42.jpg\n"
     ]
    },
    {
     "name": "stderr",
     "output_type": "stream",
     "text": [
      "\r",
      "Invoice:  83%|███████████████████████████████████████████████████████████▉            | 89/107 [00:31<00:08,  2.25it/s]"
     ]
    },
    {
     "name": "stdout",
     "output_type": "stream",
     "text": [
      "43.jpg\n"
     ]
    },
    {
     "name": "stderr",
     "output_type": "stream",
     "text": [
      "\r",
      "Invoice:  84%|████████████████████████████████████████████████████████████▌           | 90/107 [00:32<00:07,  2.31it/s]"
     ]
    },
    {
     "name": "stdout",
     "output_type": "stream",
     "text": [
      "44.jpg\n"
     ]
    },
    {
     "name": "stderr",
     "output_type": "stream",
     "text": [
      "\r",
      "Invoice:  85%|█████████████████████████████████████████████████████████████▏          | 91/107 [00:32<00:06,  2.32it/s]"
     ]
    },
    {
     "name": "stdout",
     "output_type": "stream",
     "text": [
      "45.jpg\n"
     ]
    },
    {
     "name": "stderr",
     "output_type": "stream",
     "text": [
      "\r",
      "Invoice:  86%|█████████████████████████████████████████████████████████████▉          | 92/107 [00:33<00:07,  1.99it/s]"
     ]
    },
    {
     "name": "stdout",
     "output_type": "stream",
     "text": [
      "46.jpg\n"
     ]
    },
    {
     "name": "stderr",
     "output_type": "stream",
     "text": [
      "\r",
      "Invoice:  87%|██████████████████████████████████████████████████████████████▌         | 93/107 [00:33<00:06,  2.10it/s]"
     ]
    },
    {
     "name": "stdout",
     "output_type": "stream",
     "text": [
      "55.jpg\n"
     ]
    },
    {
     "name": "stderr",
     "output_type": "stream",
     "text": [
      "\r",
      "Invoice:  88%|███████████████████████████████████████████████████████████████▎        | 94/107 [00:34<00:06,  1.98it/s]"
     ]
    },
    {
     "name": "stdout",
     "output_type": "stream",
     "text": [
      "58.jpg\n"
     ]
    },
    {
     "name": "stderr",
     "output_type": "stream",
     "text": [
      "\r",
      "Invoice:  89%|███████████████████████████████████████████████████████████████▉        | 95/107 [00:34<00:06,  1.96it/s]"
     ]
    },
    {
     "name": "stdout",
     "output_type": "stream",
     "text": [
      "60.jpg\n"
     ]
    },
    {
     "name": "stderr",
     "output_type": "stream",
     "text": [
      "\r",
      "Invoice:  90%|████████████████████████████████████████████████████████████████▌       | 96/107 [00:35<00:05,  2.02it/s]"
     ]
    },
    {
     "name": "stdout",
     "output_type": "stream",
     "text": [
      "64.jpg\n"
     ]
    },
    {
     "name": "stderr",
     "output_type": "stream",
     "text": [
      "\r",
      "Invoice:  91%|█████████████████████████████████████████████████████████████████▎      | 97/107 [00:35<00:04,  2.19it/s]"
     ]
    },
    {
     "name": "stdout",
     "output_type": "stream",
     "text": [
      "69.jpg\n"
     ]
    },
    {
     "name": "stderr",
     "output_type": "stream",
     "text": [
      "\r",
      "Invoice:  92%|█████████████████████████████████████████████████████████████████▉      | 98/107 [00:36<00:04,  1.90it/s]"
     ]
    },
    {
     "name": "stdout",
     "output_type": "stream",
     "text": [
      "71.jpg\n"
     ]
    },
    {
     "name": "stderr",
     "output_type": "stream",
     "text": [
      "\r",
      "Invoice:  93%|██████████████████████████████████████████████████████████████████▌     | 99/107 [00:36<00:03,  2.04it/s]"
     ]
    },
    {
     "name": "stdout",
     "output_type": "stream",
     "text": [
      "73.jpg\n"
     ]
    },
    {
     "name": "stderr",
     "output_type": "stream",
     "text": [
      "\r",
      "Invoice:  93%|██████████████████████████████████████████████████████████████████▎    | 100/107 [00:36<00:03,  2.26it/s]"
     ]
    },
    {
     "name": "stdout",
     "output_type": "stream",
     "text": [
      "74.jpg\n"
     ]
    },
    {
     "name": "stderr",
     "output_type": "stream",
     "text": [
      "\r",
      "Invoice:  94%|███████████████████████████████████████████████████████████████████    | 101/107 [00:37<00:02,  2.52it/s]"
     ]
    },
    {
     "name": "stdout",
     "output_type": "stream",
     "text": [
      "77.jpg\n"
     ]
    },
    {
     "name": "stderr",
     "output_type": "stream",
     "text": [
      "\r",
      "Invoice:  95%|███████████████████████████████████████████████████████████████████▋   | 102/107 [00:38<00:02,  1.72it/s]"
     ]
    },
    {
     "name": "stdout",
     "output_type": "stream",
     "text": [
      "81.jpg\n"
     ]
    },
    {
     "name": "stderr",
     "output_type": "stream",
     "text": [
      "\r",
      "Invoice:  96%|████████████████████████████████████████████████████████████████████▎  | 103/107 [00:39<00:02,  1.40it/s]"
     ]
    },
    {
     "name": "stdout",
     "output_type": "stream",
     "text": [
      "84.jpg\n"
     ]
    },
    {
     "name": "stderr",
     "output_type": "stream",
     "text": [
      "\r",
      "Invoice:  97%|█████████████████████████████████████████████████████████████████████  | 104/107 [00:39<00:01,  1.63it/s]"
     ]
    },
    {
     "name": "stdout",
     "output_type": "stream",
     "text": [
      "89.jpg\n"
     ]
    },
    {
     "name": "stderr",
     "output_type": "stream",
     "text": [
      "\r",
      "Invoice:  98%|█████████████████████████████████████████████████████████████████████▋ | 105/107 [00:40<00:01,  1.66it/s]"
     ]
    },
    {
     "name": "stdout",
     "output_type": "stream",
     "text": [
      "90.jpg\n"
     ]
    },
    {
     "name": "stderr",
     "output_type": "stream",
     "text": [
      "\r",
      "Invoice:  99%|██████████████████████████████████████████████████████████████████████▎| 106/107 [00:40<00:00,  1.79it/s]"
     ]
    },
    {
     "name": "stdout",
     "output_type": "stream",
     "text": [
      "97.jpg\n"
     ]
    },
    {
     "name": "stderr",
     "output_type": "stream",
     "text": [
      "Invoice: 100%|███████████████████████████████████████████████████████████████████████| 107/107 [00:41<00:00,  2.61it/s]\n"
     ]
    }
   ],
   "source": [
    "allInvoices = pd.DataFrame(columns=['id','text'])\n",
    "for imagePath in tqdm(imagePaths, desc='Invoice'):\n",
    "    #imagePath = imagePaths[0]\n",
    "    _, filename = os.path.split(imagePath)\n",
    "    print(filename)\n",
    "    # extract data and text\n",
    "    image = cv2.imread(imagePath)\n",
    "    image, _ = resizer(image,width=500)\n",
    "    image_gray = cv2.cvtColor(image, cv2.COLOR_BGR2GRAY)\n",
    "    data = pytesseract.image_to_data(image_gray)\n",
    "    # data.split('/n') \n",
    "#     data = pytesseract.image_to_data(image)\n",
    "    dataList = list(map(lambda x: x.split('\\t'),data.split('\\n')))\n",
    "    df = pd.DataFrame(dataList[1:],columns=dataList[0])\n",
    "    # drop the missing values\n",
    "    df.dropna(inplace=True)\n",
    "    df['conf'] = df['conf'].astype(float).astype('int')\n",
    "    useFulData = df.query('conf >=10')\n",
    "    # Dataframe \n",
    "    invoice = pd.DataFrame()\n",
    "    invoice['text'] = useFulData['text']\n",
    "    invoice['id'] = filename\n",
    "    # Concatenation \n",
    "    allInvoices = pd.concat((allInvoices, invoice))"
   ]
  },
  {
   "cell_type": "code",
   "execution_count": 6,
   "id": "99c75fba",
   "metadata": {},
   "outputs": [
    {
     "data": {
      "text/html": [
       "<div>\n",
       "<style scoped>\n",
       "    .dataframe tbody tr th:only-of-type {\n",
       "        vertical-align: middle;\n",
       "    }\n",
       "\n",
       "    .dataframe tbody tr th {\n",
       "        vertical-align: top;\n",
       "    }\n",
       "\n",
       "    .dataframe thead th {\n",
       "        text-align: right;\n",
       "    }\n",
       "</style>\n",
       "<table border=\"1\" class=\"dataframe\">\n",
       "  <thead>\n",
       "    <tr style=\"text-align: right;\">\n",
       "      <th></th>\n",
       "      <th>id</th>\n",
       "      <th>text</th>\n",
       "    </tr>\n",
       "  </thead>\n",
       "  <tbody>\n",
       "    <tr>\n",
       "      <th>4</th>\n",
       "      <td>101.jpg</td>\n",
       "      <td></td>\n",
       "    </tr>\n",
       "    <tr>\n",
       "      <th>4</th>\n",
       "      <td>102.jpg</td>\n",
       "      <td></td>\n",
       "    </tr>\n",
       "    <tr>\n",
       "      <th>12</th>\n",
       "      <td>102.jpg</td>\n",
       "      <td></td>\n",
       "    </tr>\n",
       "    <tr>\n",
       "      <th>4</th>\n",
       "      <td>104.jpg</td>\n",
       "      <td></td>\n",
       "    </tr>\n",
       "    <tr>\n",
       "      <th>4</th>\n",
       "      <td>105.jpg</td>\n",
       "      <td></td>\n",
       "    </tr>\n",
       "    <tr>\n",
       "      <th>...</th>\n",
       "      <td>...</td>\n",
       "      <td>...</td>\n",
       "    </tr>\n",
       "    <tr>\n",
       "      <th>39</th>\n",
       "      <td>97.jpg</td>\n",
       "      <td>sth</td>\n",
       "    </tr>\n",
       "    <tr>\n",
       "      <th>43</th>\n",
       "      <td>97.jpg</td>\n",
       "      <td>ic</td>\n",
       "    </tr>\n",
       "    <tr>\n",
       "      <th>44</th>\n",
       "      <td>97.jpg</td>\n",
       "      <td>3000,</td>\n",
       "    </tr>\n",
       "    <tr>\n",
       "      <th>48</th>\n",
       "      <td>97.jpg</td>\n",
       "      <td>vary</td>\n",
       "    </tr>\n",
       "    <tr>\n",
       "      <th>52</th>\n",
       "      <td>97.jpg</td>\n",
       "      <td>SubTotal</td>\n",
       "    </tr>\n",
       "  </tbody>\n",
       "</table>\n",
       "<p>3133 rows × 2 columns</p>\n",
       "</div>"
      ],
      "text/plain": [
       "         id      text\n",
       "4   101.jpg          \n",
       "4   102.jpg          \n",
       "12  102.jpg          \n",
       "4   104.jpg          \n",
       "4   105.jpg          \n",
       "..      ...       ...\n",
       "39   97.jpg       sth\n",
       "43   97.jpg        ic\n",
       "44   97.jpg     3000,\n",
       "48   97.jpg      vary\n",
       "52   97.jpg  SubTotal\n",
       "\n",
       "[3133 rows x 2 columns]"
      ]
     },
     "execution_count": 6,
     "metadata": {},
     "output_type": "execute_result"
    }
   ],
   "source": [
    "allInvoices\n",
    "\n"
   ]
  },
  {
   "cell_type": "code",
   "execution_count": 7,
   "id": "524cdee0",
   "metadata": {},
   "outputs": [],
   "source": [
    "allInvoices.to_csv('invoicesPy.csv', index = False)"
   ]
  },
  {
   "cell_type": "raw",
   "id": "45919536",
   "metadata": {},
   "source": []
  }
 ],
 "metadata": {
  "kernelspec": {
   "display_name": "Python 3 (ipykernel)",
   "language": "python",
   "name": "python3"
  },
  "language_info": {
   "codemirror_mode": {
    "name": "ipython",
    "version": 3
   },
   "file_extension": ".py",
   "mimetype": "text/x-python",
   "name": "python",
   "nbconvert_exporter": "python",
   "pygments_lexer": "ipython3",
   "version": "3.9.6"
  }
 },
 "nbformat": 4,
 "nbformat_minor": 5
}
